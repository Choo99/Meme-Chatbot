{
 "cells": [
  {
   "cell_type": "markdown",
   "metadata": {
    "id": "sp7D0ktn5eiG"
   },
   "source": [
    "## Tweet Emotion Recognition: Natural Language Processing with TensorFlow\n",
    "\n",
    "---\n",
    "\n",
    "Dataset: [Tweet Emotion Dataset](https://github.com/dair-ai/emotion_dataset)\n",
    "\n",
    "This is a starter notebook for the guided project [Tweet Emotion Recognition with TensorFlow](https://www.coursera.org/projects/tweet-emotion-tensorflow)\n",
    "\n",
    "A complete version of this notebook is available in the course resources\n",
    "\n",
    "---\n",
    "\n",
    "## Task 1: Introduction"
   ]
  },
  {
   "cell_type": "markdown",
   "metadata": {
    "id": "cprXxkrMxIgT"
   },
   "source": [
    "## Task 2: Setup and Imports\n",
    "\n",
    "1. Installing Hugging Face's nlp package\n",
    "2. Importing libraries"
   ]
  },
  {
   "cell_type": "code",
   "execution_count": 1,
   "metadata": {
    "colab": {
     "base_uri": "https://localhost:8080/"
    },
    "executionInfo": {
     "elapsed": 4842,
     "status": "ok",
     "timestamp": 1623664605789,
     "user": {
      "displayName": "邦",
      "photoUrl": "",
      "userId": "08470115849709744422"
     },
     "user_tz": -480
    },
    "id": "5agZRy-45i0g",
    "outputId": "dacc0890-b644-4673-daeb-91ef075a6862"
   },
   "outputs": [
    {
     "name": "stdout",
     "output_type": "stream",
     "text": [
      "Requirement already satisfied: nlp in /usr/local/lib/python3.7/dist-packages (0.4.0)\n",
      "Requirement already satisfied: xxhash in /usr/local/lib/python3.7/dist-packages (from nlp) (2.0.2)\n",
      "Requirement already satisfied: requests>=2.19.0 in /usr/local/lib/python3.7/dist-packages (from nlp) (2.23.0)\n",
      "Requirement already satisfied: dill in /usr/local/lib/python3.7/dist-packages (from nlp) (0.3.3)\n",
      "Requirement already satisfied: pandas in /usr/local/lib/python3.7/dist-packages (from nlp) (1.1.5)\n",
      "Requirement already satisfied: tqdm>=4.27 in /usr/local/lib/python3.7/dist-packages (from nlp) (4.41.1)\n",
      "Requirement already satisfied: numpy in /usr/local/lib/python3.7/dist-packages (from nlp) (1.19.5)\n",
      "Requirement already satisfied: filelock in /usr/local/lib/python3.7/dist-packages (from nlp) (3.0.12)\n",
      "Requirement already satisfied: pyarrow>=0.16.0 in /usr/local/lib/python3.7/dist-packages (from nlp) (3.0.0)\n",
      "Requirement already satisfied: idna<3,>=2.5 in /usr/local/lib/python3.7/dist-packages (from requests>=2.19.0->nlp) (2.10)\n",
      "Requirement already satisfied: certifi>=2017.4.17 in /usr/local/lib/python3.7/dist-packages (from requests>=2.19.0->nlp) (2020.12.5)\n",
      "Requirement already satisfied: urllib3!=1.25.0,!=1.25.1,<1.26,>=1.21.1 in /usr/local/lib/python3.7/dist-packages (from requests>=2.19.0->nlp) (1.24.3)\n",
      "Requirement already satisfied: chardet<4,>=3.0.2 in /usr/local/lib/python3.7/dist-packages (from requests>=2.19.0->nlp) (3.0.4)\n",
      "Requirement already satisfied: pytz>=2017.2 in /usr/local/lib/python3.7/dist-packages (from pandas->nlp) (2018.9)\n",
      "Requirement already satisfied: python-dateutil>=2.7.3 in /usr/local/lib/python3.7/dist-packages (from pandas->nlp) (2.8.1)\n",
      "Requirement already satisfied: six>=1.5 in /usr/local/lib/python3.7/dist-packages (from python-dateutil>=2.7.3->pandas->nlp) (1.15.0)\n",
      "Requirement already satisfied: tensorflow in /usr/local/lib/python3.7/dist-packages (2.5.0)\n",
      "Requirement already satisfied: numpy~=1.19.2 in /usr/local/lib/python3.7/dist-packages (from tensorflow) (1.19.5)\n",
      "Requirement already satisfied: typing-extensions~=3.7.4 in /usr/local/lib/python3.7/dist-packages (from tensorflow) (3.7.4.3)\n",
      "Requirement already satisfied: gast==0.4.0 in /usr/local/lib/python3.7/dist-packages (from tensorflow) (0.4.0)\n",
      "Requirement already satisfied: wheel~=0.35 in /usr/local/lib/python3.7/dist-packages (from tensorflow) (0.36.2)\n",
      "Requirement already satisfied: tensorboard~=2.5 in /usr/local/lib/python3.7/dist-packages (from tensorflow) (2.5.0)\n",
      "Requirement already satisfied: tensorflow-estimator<2.6.0,>=2.5.0rc0 in /usr/local/lib/python3.7/dist-packages (from tensorflow) (2.5.0)\n",
      "Requirement already satisfied: google-pasta~=0.2 in /usr/local/lib/python3.7/dist-packages (from tensorflow) (0.2.0)\n",
      "Requirement already satisfied: protobuf>=3.9.2 in /usr/local/lib/python3.7/dist-packages (from tensorflow) (3.12.4)\n",
      "Requirement already satisfied: keras-preprocessing~=1.1.2 in /usr/local/lib/python3.7/dist-packages (from tensorflow) (1.1.2)\n",
      "Requirement already satisfied: termcolor~=1.1.0 in /usr/local/lib/python3.7/dist-packages (from tensorflow) (1.1.0)\n",
      "Requirement already satisfied: absl-py~=0.10 in /usr/local/lib/python3.7/dist-packages (from tensorflow) (0.12.0)\n",
      "Requirement already satisfied: astunparse~=1.6.3 in /usr/local/lib/python3.7/dist-packages (from tensorflow) (1.6.3)\n",
      "Requirement already satisfied: six~=1.15.0 in /usr/local/lib/python3.7/dist-packages (from tensorflow) (1.15.0)\n",
      "Requirement already satisfied: h5py~=3.1.0 in /usr/local/lib/python3.7/dist-packages (from tensorflow) (3.1.0)\n",
      "Requirement already satisfied: opt-einsum~=3.3.0 in /usr/local/lib/python3.7/dist-packages (from tensorflow) (3.3.0)\n",
      "Requirement already satisfied: grpcio~=1.34.0 in /usr/local/lib/python3.7/dist-packages (from tensorflow) (1.34.1)\n",
      "Requirement already satisfied: flatbuffers~=1.12.0 in /usr/local/lib/python3.7/dist-packages (from tensorflow) (1.12)\n",
      "Requirement already satisfied: wrapt~=1.12.1 in /usr/local/lib/python3.7/dist-packages (from tensorflow) (1.12.1)\n",
      "Requirement already satisfied: keras-nightly~=2.5.0.dev in /usr/local/lib/python3.7/dist-packages (from tensorflow) (2.5.0.dev2021032900)\n",
      "Requirement already satisfied: tensorboard-plugin-wit>=1.6.0 in /usr/local/lib/python3.7/dist-packages (from tensorboard~=2.5->tensorflow) (1.8.0)\n",
      "Requirement already satisfied: google-auth-oauthlib<0.5,>=0.4.1 in /usr/local/lib/python3.7/dist-packages (from tensorboard~=2.5->tensorflow) (0.4.4)\n",
      "Requirement already satisfied: requests<3,>=2.21.0 in /usr/local/lib/python3.7/dist-packages (from tensorboard~=2.5->tensorflow) (2.23.0)\n",
      "Requirement already satisfied: setuptools>=41.0.0 in /usr/local/lib/python3.7/dist-packages (from tensorboard~=2.5->tensorflow) (57.0.0)\n",
      "Requirement already satisfied: google-auth<2,>=1.6.3 in /usr/local/lib/python3.7/dist-packages (from tensorboard~=2.5->tensorflow) (1.30.0)\n",
      "Requirement already satisfied: werkzeug>=0.11.15 in /usr/local/lib/python3.7/dist-packages (from tensorboard~=2.5->tensorflow) (1.0.1)\n",
      "Requirement already satisfied: markdown>=2.6.8 in /usr/local/lib/python3.7/dist-packages (from tensorboard~=2.5->tensorflow) (3.3.4)\n",
      "Requirement already satisfied: tensorboard-data-server<0.7.0,>=0.6.0 in /usr/local/lib/python3.7/dist-packages (from tensorboard~=2.5->tensorflow) (0.6.1)\n",
      "Requirement already satisfied: cached-property; python_version < \"3.8\" in /usr/local/lib/python3.7/dist-packages (from h5py~=3.1.0->tensorflow) (1.5.2)\n",
      "Requirement already satisfied: requests-oauthlib>=0.7.0 in /usr/local/lib/python3.7/dist-packages (from google-auth-oauthlib<0.5,>=0.4.1->tensorboard~=2.5->tensorflow) (1.3.0)\n",
      "Requirement already satisfied: certifi>=2017.4.17 in /usr/local/lib/python3.7/dist-packages (from requests<3,>=2.21.0->tensorboard~=2.5->tensorflow) (2020.12.5)\n",
      "Requirement already satisfied: chardet<4,>=3.0.2 in /usr/local/lib/python3.7/dist-packages (from requests<3,>=2.21.0->tensorboard~=2.5->tensorflow) (3.0.4)\n",
      "Requirement already satisfied: urllib3!=1.25.0,!=1.25.1,<1.26,>=1.21.1 in /usr/local/lib/python3.7/dist-packages (from requests<3,>=2.21.0->tensorboard~=2.5->tensorflow) (1.24.3)\n",
      "Requirement already satisfied: idna<3,>=2.5 in /usr/local/lib/python3.7/dist-packages (from requests<3,>=2.21.0->tensorboard~=2.5->tensorflow) (2.10)\n",
      "Requirement already satisfied: cachetools<5.0,>=2.0.0 in /usr/local/lib/python3.7/dist-packages (from google-auth<2,>=1.6.3->tensorboard~=2.5->tensorflow) (4.2.2)\n",
      "Requirement already satisfied: pyasn1-modules>=0.2.1 in /usr/local/lib/python3.7/dist-packages (from google-auth<2,>=1.6.3->tensorboard~=2.5->tensorflow) (0.2.8)\n",
      "Requirement already satisfied: rsa<5,>=3.1.4; python_version >= \"3.6\" in /usr/local/lib/python3.7/dist-packages (from google-auth<2,>=1.6.3->tensorboard~=2.5->tensorflow) (4.7.2)\n",
      "Requirement already satisfied: importlib-metadata; python_version < \"3.8\" in /usr/local/lib/python3.7/dist-packages (from markdown>=2.6.8->tensorboard~=2.5->tensorflow) (4.0.1)\n",
      "Requirement already satisfied: oauthlib>=3.0.0 in /usr/local/lib/python3.7/dist-packages (from requests-oauthlib>=0.7.0->google-auth-oauthlib<0.5,>=0.4.1->tensorboard~=2.5->tensorflow) (3.1.0)\n",
      "Requirement already satisfied: pyasn1<0.5.0,>=0.4.6 in /usr/local/lib/python3.7/dist-packages (from pyasn1-modules>=0.2.1->google-auth<2,>=1.6.3->tensorboard~=2.5->tensorflow) (0.4.8)\n",
      "Requirement already satisfied: zipp>=0.5 in /usr/local/lib/python3.7/dist-packages (from importlib-metadata; python_version < \"3.8\"->markdown>=2.6.8->tensorboard~=2.5->tensorflow) (3.4.1)\n"
     ]
    }
   ],
   "source": [
    "!pip install nlp\n",
    "!pip install tensorflow"
   ]
  },
  {
   "cell_type": "code",
   "execution_count": 2,
   "metadata": {
    "colab": {
     "base_uri": "https://localhost:8080/"
    },
    "executionInfo": {
     "elapsed": 2059,
     "status": "ok",
     "timestamp": 1623664607843,
     "user": {
      "displayName": "邦",
      "photoUrl": "",
      "userId": "08470115849709744422"
     },
     "user_tz": -480
    },
    "id": "yKFjWz6e5eiH",
    "outputId": "d348bc6d-2150-4d22-8fd5-1e81cfdbcc7b"
   },
   "outputs": [
    {
     "name": "stdout",
     "output_type": "stream",
     "text": [
      "Using TensorFlow version 2.5.0\n"
     ]
    }
   ],
   "source": [
    "%matplotlib inline\n",
    "\n",
    "import tensorflow as tf\n",
    "import numpy as np\n",
    "import matplotlib.pyplot as plt\n",
    "import nlp\n",
    "import random\n",
    "\n",
    "\n",
    "def show_history(h):\n",
    "    plt.style.use('dark_background')\n",
    "    epochs_trained = len(h.history['loss'])\n",
    "    plt.figure(figsize=(16, 6))\n",
    "\n",
    "    plt.subplot(1, 2, 1)\n",
    "    plt.plot(range(0, epochs_trained), h.history.get('accuracy'), label='Training')\n",
    "    plt.plot(range(0, epochs_trained), h.history.get('val_accuracy'), label='Validation')\n",
    "    plt.ylim([0., 1.])\n",
    "    plt.xlabel('Epochs')\n",
    "    plt.ylabel('Accuracy')\n",
    "    plt.legend()\n",
    "\n",
    "    plt.subplot(1, 2, 2)\n",
    "    plt.plot(range(0, epochs_trained), h.history.get('loss'), label='Training')\n",
    "    plt.plot(range(0, epochs_trained), h.history.get('val_loss'), label='Validation')\n",
    "    plt.xlabel('Epochs')\n",
    "    plt.ylabel('Loss')\n",
    "    plt.legend()\n",
    "    plt.show()\n",
    "\n",
    "    \n",
    "def show_confusion_matrix(y_true, y_pred, classes):\n",
    "    from sklearn.metrics import confusion_matrix\n",
    "    \n",
    "    cm = confusion_matrix(y_true, y_pred, normalize='true')\n",
    "\n",
    "    plt.figure(figsize=(8, 8))\n",
    "    sp = plt.subplot(1, 1, 1)\n",
    "    ctx = sp.matshow(cm)\n",
    "    plt.xticks(list(range(0, 6)), labels=classes)\n",
    "    plt.yticks(list(range(0, 6)), labels=classes)\n",
    "    plt.colorbar(ctx)\n",
    "    plt.show()\n",
    "\n",
    "    \n",
    "print('Using TensorFlow version', tf.__version__)"
   ]
  },
  {
   "cell_type": "markdown",
   "metadata": {
    "id": "7JsBpezExIga"
   },
   "source": [
    "## Task 3: Importing Data\n",
    "\n",
    "1. Importing the Tweet Emotion dataset\n",
    "2. Creating train, validation and test sets\n",
    "3. Extracting tweets and labels from the examples"
   ]
  },
  {
   "cell_type": "code",
   "execution_count": 3,
   "metadata": {
    "colab": {
     "base_uri": "https://localhost:8080/"
    },
    "executionInfo": {
     "elapsed": 6,
     "status": "ok",
     "timestamp": 1623664607844,
     "user": {
      "displayName": "邦",
      "photoUrl": "",
      "userId": "08470115849709744422"
     },
     "user_tz": -480
    },
    "id": "0YHOvjAu5eiL",
    "outputId": "4fc41edb-f3a8-4c85-dbe0-64065758ab46"
   },
   "outputs": [
    {
     "name": "stderr",
     "output_type": "stream",
     "text": [
      "Using custom data configuration default\n"
     ]
    }
   ],
   "source": [
    "dataset =  nlp.load_dataset('emotion')"
   ]
  },
  {
   "cell_type": "code",
   "execution_count": 4,
   "metadata": {
    "executionInfo": {
     "elapsed": 5,
     "status": "ok",
     "timestamp": 1623664607845,
     "user": {
      "displayName": "邦",
      "photoUrl": "",
      "userId": "08470115849709744422"
     },
     "user_tz": -480
    },
    "id": "2s0h541FxIgc"
   },
   "outputs": [],
   "source": [
    "train = dataset['train']\n",
    "val = dataset['validation']\n",
    "test = dataset['test']"
   ]
  },
  {
   "cell_type": "code",
   "execution_count": 5,
   "metadata": {
    "executionInfo": {
     "elapsed": 6,
     "status": "ok",
     "timestamp": 1623664607846,
     "user": {
      "displayName": "邦",
      "photoUrl": "",
      "userId": "08470115849709744422"
     },
     "user_tz": -480
    },
    "id": "z7eCnxU25eiN"
   },
   "outputs": [],
   "source": [
    "def get_tweet(data):\n",
    "  tweets = [x['text']for x in data]\n",
    "  labels = [x['label']for x in data]\n",
    "  return tweets, labels"
   ]
  },
  {
   "cell_type": "code",
   "execution_count": 6,
   "metadata": {
    "executionInfo": {
     "elapsed": 411,
     "status": "ok",
     "timestamp": 1623664608252,
     "user": {
      "displayName": "邦",
      "photoUrl": "",
      "userId": "08470115849709744422"
     },
     "user_tz": -480
    },
    "id": "oDYXMfZy5eiP"
   },
   "outputs": [],
   "source": [
    "tweets,labels = get_tweet(train)"
   ]
  },
  {
   "cell_type": "code",
   "execution_count": 6,
   "metadata": {
    "executionInfo": {
     "elapsed": 5,
     "status": "ok",
     "timestamp": 1623664608252,
     "user": {
      "displayName": "邦",
      "photoUrl": "",
      "userId": "08470115849709744422"
     },
     "user_tz": -480
    },
    "id": "JQ2lUzjd6ckX"
   },
   "outputs": [],
   "source": []
  },
  {
   "cell_type": "code",
   "execution_count": 7,
   "metadata": {
    "colab": {
     "base_uri": "https://localhost:8080/"
    },
    "executionInfo": {
     "elapsed": 5,
     "status": "ok",
     "timestamp": 1623664608253,
     "user": {
      "displayName": "邦",
      "photoUrl": "",
      "userId": "08470115849709744422"
     },
     "user_tz": -480
    },
    "id": "jeq3-vSB5eiR",
    "outputId": "c6f36623-16e7-4d9b-99e2-4de7581b0149"
   },
   "outputs": [
    {
     "name": "stdout",
     "output_type": "stream",
     "text": [
      "i didnt feel humiliated [sadness]\n",
      "i can go from feeling so hopeless to so damned hopeful just from being around someone who cares and is awake [sadness]\n",
      "im grabbing a minute to post i feel greedy wrong [anger]\n",
      "i am ever feeling nostalgic about the fireplace i will know that it is still on the property [love]\n",
      "i am feeling grouchy [anger]\n",
      "ive been feeling a little burdened lately wasnt sure why that was [sadness]\n",
      "ive been taking or milligrams or times recommended amount and ive fallen asleep a lot faster but i also feel like so funny [surprise]\n",
      "i feel as confused about life as a teenager or as jaded as a year old man [fear]\n",
      "i have been with petronas for years i feel that petronas has performed well and made a huge profit [joy]\n",
      "i feel romantic too [love]\n",
      "i feel like i have to make the suffering i m seeing mean something [sadness]\n",
      "i do feel that running is a divine experience and that i can expect to have some type of spiritual encounter [joy]\n",
      "i think it s the easiest time of year to feel dissatisfied [anger]\n",
      "i feel low energy i m just thirsty [sadness]\n",
      "i have immense sympathy with the general point but as a possible proto writer trying to find time to write in the corners of life and with no sign of an agent let alone a publishing contract this feels a little precious [joy]\n",
      "i do not feel reassured anxiety is on each side [joy]\n",
      "i didnt really feel that embarrassed [sadness]\n",
      "i feel pretty pathetic most of the time [sadness]\n",
      "i started feeling sentimental about dolls i had as a child and so began a collection of vintage barbie dolls from the sixties [sadness]\n",
      "i now feel compromised and skeptical of the value of every unit of work i put in [fear]\n"
     ]
    }
   ],
   "source": [
    "for x in range(20):\n",
    "  print(tweets[x],'['+labels[x]+']')"
   ]
  },
  {
   "cell_type": "markdown",
   "metadata": {
    "id": "gcAflLv6xIgp"
   },
   "source": [
    "## Task 4: Tokenizer\n",
    "\n",
    "1. Tokenizing the tweets"
   ]
  },
  {
   "cell_type": "code",
   "execution_count": 8,
   "metadata": {
    "executionInfo": {
     "elapsed": 4,
     "status": "ok",
     "timestamp": 1623664608253,
     "user": {
      "displayName": "邦",
      "photoUrl": "",
      "userId": "08470115849709744422"
     },
     "user_tz": -480
    },
    "id": "qfX5-ResxIgq"
   },
   "outputs": [],
   "source": [
    "from tensorflow.keras.preprocessing.text import Tokenizer"
   ]
  },
  {
   "cell_type": "code",
   "execution_count": 9,
   "metadata": {
    "executionInfo": {
     "elapsed": 353,
     "status": "ok",
     "timestamp": 1623664608603,
     "user": {
      "displayName": "邦",
      "photoUrl": "",
      "userId": "08470115849709744422"
     },
     "user_tz": -480
    },
    "id": "cckUvwBo5eif"
   },
   "outputs": [],
   "source": [
    "tokenizer = Tokenizer(num_words=10000, oov_token ='<UNK>')\n",
    "tokenizer.fit_on_texts(tweets)"
   ]
  },
  {
   "cell_type": "code",
   "execution_count": 10,
   "metadata": {
    "colab": {
     "base_uri": "https://localhost:8080/"
    },
    "executionInfo": {
     "elapsed": 11,
     "status": "ok",
     "timestamp": 1623664608604,
     "user": {
      "displayName": "邦",
      "photoUrl": "",
      "userId": "08470115849709744422"
     },
     "user_tz": -480
    },
    "id": "yiun3_Kndvr_",
    "outputId": "5a5243f7-bc13-4a44-f32a-83ca0aa645c0"
   },
   "outputs": [
    {
     "data": {
      "text/plain": [
       "[[2, 139, 3, 679]]"
      ]
     },
     "execution_count": 10,
     "metadata": {
      "tags": []
     },
     "output_type": "execute_result"
    }
   ],
   "source": [
    "tokenizer.texts_to_sequences([tweets[0]])"
   ]
  },
  {
   "cell_type": "code",
   "execution_count": 11,
   "metadata": {
    "colab": {
     "base_uri": "https://localhost:8080/",
     "height": 35
    },
    "executionInfo": {
     "elapsed": 15,
     "status": "ok",
     "timestamp": 1623664608610,
     "user": {
      "displayName": "邦",
      "photoUrl": "",
      "userId": "08470115849709744422"
     },
     "user_tz": -480
    },
    "id": "w0I244Byd2DL",
    "outputId": "a0d33652-0ca2-4126-80c2-ba01e6d29d87"
   },
   "outputs": [
    {
     "data": {
      "application/vnd.google.colaboratory.intrinsic+json": {
       "type": "string"
      },
      "text/plain": [
       "'i didnt feel humiliated'"
      ]
     },
     "execution_count": 11,
     "metadata": {
      "tags": []
     },
     "output_type": "execute_result"
    }
   ],
   "source": [
    "tweets[0]"
   ]
  },
  {
   "cell_type": "markdown",
   "metadata": {
    "id": "i3Bqm7b2xIgu"
   },
   "source": [
    "## Task 5: Padding and Truncating Sequences\n",
    "\n",
    "1. Checking length of the tweets\n",
    "2. Creating padded sequences"
   ]
  },
  {
   "cell_type": "code",
   "execution_count": 12,
   "metadata": {
    "colab": {
     "base_uri": "https://localhost:8080/",
     "height": 265
    },
    "executionInfo": {
     "elapsed": 13,
     "status": "ok",
     "timestamp": 1623664608610,
     "user": {
      "displayName": "邦",
      "photoUrl": "",
      "userId": "08470115849709744422"
     },
     "user_tz": -480
    },
    "id": "FVbl5Asv7pZl",
    "outputId": "eab40783-728d-4e32-b4a7-1967f93e6c94"
   },
   "outputs": [
    {
     "data": {
      "image/png": "[encoded data removed]",
      "text/plain": [
       "<Figure size 432x288 with 1 Axes>"
      ]
     },
     "metadata": {
      "needs_background": "light",
      "tags": []
     },
     "output_type": "display_data"
    }
   ],
   "source": [
    "plt.hist(labels,bins =11)\n",
    "plt.show()"
   ]
  },
  {
   "cell_type": "code",
   "execution_count": 13,
   "metadata": {
    "colab": {
     "base_uri": "https://localhost:8080/",
     "height": 265
    },
    "executionInfo": {
     "elapsed": 431,
     "status": "ok",
     "timestamp": 1623664609029,
     "user": {
      "displayName": "邦",
      "photoUrl": "",
      "userId": "08470115849709744422"
     },
     "user_tz": -480
    },
    "id": "AE06GeRgd-gm",
    "outputId": "c64050ba-048b-4eff-b9b2-7d3c61ba3be8"
   },
   "outputs": [
    {
     "data": {
      "image/png": "[encoded data removed]",
      "text/plain": [
       "<Figure size 432x288 with 1 Axes>"
      ]
     },
     "metadata": {
      "needs_background": "light",
      "tags": []
     },
     "output_type": "display_data"
    }
   ],
   "source": [
    "lengths = [len(t.split(' ')) for t in tweets]\n",
    "plt.hist(lengths, bins = len(set(lengths)))\n",
    "plt.show()"
   ]
  },
  {
   "cell_type": "code",
   "execution_count": 14,
   "metadata": {
    "executionInfo": {
     "elapsed": 6,
     "status": "ok",
     "timestamp": 1623664609030,
     "user": {
      "displayName": "邦",
      "photoUrl": "",
      "userId": "08470115849709744422"
     },
     "user_tz": -480
    },
    "id": "mLvf_WFZxIgu"
   },
   "outputs": [],
   "source": [
    "maxlen = 50"
   ]
  },
  {
   "cell_type": "code",
   "execution_count": 15,
   "metadata": {
    "executionInfo": {
     "elapsed": 6,
     "status": "ok",
     "timestamp": 1623664609031,
     "user": {
      "displayName": "邦",
      "photoUrl": "",
      "userId": "08470115849709744422"
     },
     "user_tz": -480
    },
    "id": "EOi5lIE3xIgx"
   },
   "outputs": [],
   "source": [
    "from tensorflow.keras.preprocessing.sequence import pad_sequences"
   ]
  },
  {
   "cell_type": "code",
   "execution_count": 16,
   "metadata": {
    "executionInfo": {
     "elapsed": 7,
     "status": "ok",
     "timestamp": 1623664609032,
     "user": {
      "displayName": "邦",
      "photoUrl": "",
      "userId": "08470115849709744422"
     },
     "user_tz": -480
    },
    "id": "Q9J_Iemf5eiq"
   },
   "outputs": [],
   "source": [
    "def get_sequences(tokenizer,tweets):\n",
    "  sequence = tokenizer.texts_to_sequences(tweets)\n",
    "  padded = pad_sequences(sequence, truncating = 'post', padding = 'post', maxlen = maxlen)\n",
    "  return padded"
   ]
  },
  {
   "cell_type": "code",
   "execution_count": 17,
   "metadata": {
    "executionInfo": {
     "elapsed": 6,
     "status": "ok",
     "timestamp": 1623664609032,
     "user": {
      "displayName": "邦",
      "photoUrl": "",
      "userId": "08470115849709744422"
     },
     "user_tz": -480
    },
    "id": "eglH77ky5ei0"
   },
   "outputs": [],
   "source": [
    "padded_train_seq = get_sequences(tokenizer,tweets)"
   ]
  },
  {
   "cell_type": "markdown",
   "metadata": {
    "id": "BURhOX_KxIg8"
   },
   "source": [
    "## Task 6: Preparing the Labels\n",
    "\n",
    "1. Creating classes to index and index to classes dictionaries\n",
    "2. Converting text labels to numeric labels"
   ]
  },
  {
   "cell_type": "code",
   "execution_count": 18,
   "metadata": {
    "executionInfo": {
     "elapsed": 484,
     "status": "ok",
     "timestamp": 1623664609510,
     "user": {
      "displayName": "邦",
      "photoUrl": "",
      "userId": "08470115849709744422"
     },
     "user_tz": -480
    },
    "id": "SufT2bpD5ejE"
   },
   "outputs": [],
   "source": [
    "classes = set(labels)"
   ]
  },
  {
   "cell_type": "code",
   "execution_count": 19,
   "metadata": {
    "executionInfo": {
     "elapsed": 10,
     "status": "ok",
     "timestamp": 1623664609511,
     "user": {
      "displayName": "邦",
      "photoUrl": "",
      "userId": "08470115849709744422"
     },
     "user_tz": -480
    },
    "id": "rpwzL88I7YSm"
   },
   "outputs": [],
   "source": [
    "class_to_index = dict((c,i) for i,c in enumerate(classes))\n",
    "index_to_class = dict((v,k) for k,v in class_to_index.items())"
   ]
  },
  {
   "cell_type": "code",
   "execution_count": 20,
   "metadata": {
    "colab": {
     "base_uri": "https://localhost:8080/"
    },
    "executionInfo": {
     "elapsed": 9,
     "status": "ok",
     "timestamp": 1623664609511,
     "user": {
      "displayName": "邦",
      "photoUrl": "",
      "userId": "08470115849709744422"
     },
     "user_tz": -480
    },
    "id": "dNLF6rXL5ejN",
    "outputId": "8f532a8e-42f7-40b8-97ac-54862874a0b1"
   },
   "outputs": [
    {
     "data": {
      "text/plain": [
       "{'anger': 5, 'fear': 4, 'joy': 3, 'love': 0, 'sadness': 2, 'surprise': 1}"
      ]
     },
     "execution_count": 20,
     "metadata": {
      "tags": []
     },
     "output_type": "execute_result"
    }
   ],
   "source": [
    "class_to_index"
   ]
  },
  {
   "cell_type": "code",
   "execution_count": 21,
   "metadata": {
    "executionInfo": {
     "elapsed": 8,
     "status": "ok",
     "timestamp": 1623664609512,
     "user": {
      "displayName": "邦",
      "photoUrl": "",
      "userId": "08470115849709744422"
     },
     "user_tz": -480
    },
    "id": "_08InVyM5ejc"
   },
   "outputs": [],
   "source": [
    "names_to_ids = lambda labels:np.array([class_to_index.get(x) for x in labels])"
   ]
  },
  {
   "cell_type": "code",
   "execution_count": 22,
   "metadata": {
    "executionInfo": {
     "elapsed": 6,
     "status": "ok",
     "timestamp": 1623664609512,
     "user": {
      "displayName": "邦",
      "photoUrl": "",
      "userId": "08470115849709744422"
     },
     "user_tz": -480
    },
    "id": "gpeDoA6gxIhE"
   },
   "outputs": [],
   "source": [
    "train_labels = names_to_ids(labels)"
   ]
  },
  {
   "cell_type": "markdown",
   "metadata": {
    "id": "c-v0Mnh8xIhP"
   },
   "source": [
    "## Task 7: Creating the Model\n",
    "\n",
    "1. Creating the model\n",
    "2. Compiling the model"
   ]
  },
  {
   "cell_type": "code",
   "execution_count": 23,
   "metadata": {
    "executionInfo": {
     "elapsed": 1697,
     "status": "ok",
     "timestamp": 1623664611204,
     "user": {
      "displayName": "邦",
      "photoUrl": "",
      "userId": "08470115849709744422"
     },
     "user_tz": -480
    },
    "id": "OpewXxPQ5eji"
   },
   "outputs": [],
   "source": [
    "model = tf.keras.models.Sequential([\n",
    "        tf.keras.layers.Embedding(10000,16,input_length=maxlen),\n",
    "        tf.keras.layers.Bidirectional(tf.keras.layers.LSTM(20,return_sequences=True)),\n",
    "        tf.keras.layers.Bidirectional(tf.keras.layers.LSTM(20)),\n",
    "        tf.keras.layers.Dense(6,activation='softmax')\n",
    "])\n",
    "\n",
    "model.compile(\n",
    "    loss = 'sparse_categorical_crossentropy',\n",
    "    optimizer = 'adam',\n",
    "    metrics = ['accuracy']\n",
    ")"
   ]
  },
  {
   "cell_type": "code",
   "execution_count": 24,
   "metadata": {
    "colab": {
     "base_uri": "https://localhost:8080/"
    },
    "executionInfo": {
     "elapsed": 9,
     "status": "ok",
     "timestamp": 1623664611204,
     "user": {
      "displayName": "邦",
      "photoUrl": "",
      "userId": "08470115849709744422"
     },
     "user_tz": -480
    },
    "id": "2-OBYKTAV7Xk",
    "outputId": "af3e0f10-4aac-4c91-e099-e62c79b62fb7"
   },
   "outputs": [
    {
     "name": "stdout",
     "output_type": "stream",
     "text": [
      "Model: \"sequential\"\n",
      "_________________________________________________________________\n",
      "Layer (type)                 Output Shape              Param #   \n",
      "=================================================================\n",
      "embedding (Embedding)        (None, 50, 16)            160000    \n",
      "_________________________________________________________________\n",
      "bidirectional (Bidirectional (None, 50, 40)            5920      \n",
      "_________________________________________________________________\n",
      "bidirectional_1 (Bidirection (None, 40)                9760      \n",
      "_________________________________________________________________\n",
      "dense (Dense)                (None, 6)                 246       \n",
      "=================================================================\n",
      "Total params: 175,926\n",
      "Trainable params: 175,926\n",
      "Non-trainable params: 0\n",
      "_________________________________________________________________\n"
     ]
    }
   ],
   "source": [
    "model.summary()"
   ]
  },
  {
   "cell_type": "markdown",
   "metadata": {
    "id": "1HST_CHjxIhR"
   },
   "source": [
    "## Task 8: Training the Model\n",
    "\n",
    "1. Preparing a validation set\n",
    "2. Training the model"
   ]
  },
  {
   "cell_type": "code",
   "execution_count": 25,
   "metadata": {
    "executionInfo": {
     "elapsed": 25,
     "status": "ok",
     "timestamp": 1623664611205,
     "user": {
      "displayName": "邦",
      "photoUrl": "",
      "userId": "08470115849709744422"
     },
     "user_tz": -480
    },
    "id": "Ff7F3hCK5ejm"
   },
   "outputs": [],
   "source": [
    "val_tweets, val_labels = get_tweet(val)\n",
    "val_seq = get_sequences(tokenizer,val_tweets)\n",
    "val_labels = names_to_ids(val_labels)"
   ]
  },
  {
   "cell_type": "code",
   "execution_count": 26,
   "metadata": {
    "cellView": "code",
    "colab": {
     "base_uri": "https://localhost:8080/"
    },
    "executionInfo": {
     "elapsed": 85457,
     "status": "ok",
     "timestamp": 1623664696655,
     "user": {
      "displayName": "邦",
      "photoUrl": "",
      "userId": "08470115849709744422"
     },
     "user_tz": -480
    },
    "id": "hlMKaZ3H5ejr",
    "outputId": "0cc2c81a-0574-42df-ca25-a8faf8ebb4cb"
   },
   "outputs": [
    {
     "name": "stdout",
     "output_type": "stream",
     "text": [
      "Epoch 1/20\n",
      "500/500 [==============================] - 13s 16ms/step - loss: 1.2507 - accuracy: 0.5027 - val_loss: 0.8030 - val_accuracy: 0.6995\n",
      "Epoch 2/20\n",
      "500/500 [==============================] - 7s 13ms/step - loss: 0.5527 - accuracy: 0.7976 - val_loss: 0.5499 - val_accuracy: 0.8195\n",
      "Epoch 3/20\n",
      "500/500 [==============================] - 7s 13ms/step - loss: 0.3784 - accuracy: 0.8687 - val_loss: 0.4884 - val_accuracy: 0.8425\n",
      "Epoch 4/20\n",
      "500/500 [==============================] - 7s 13ms/step - loss: 0.2674 - accuracy: 0.9056 - val_loss: 0.4547 - val_accuracy: 0.8555\n",
      "Epoch 5/20\n",
      "500/500 [==============================] - 7s 13ms/step - loss: 0.1866 - accuracy: 0.9402 - val_loss: 0.4931 - val_accuracy: 0.8630\n",
      "Epoch 6/20\n",
      "500/500 [==============================] - 7s 13ms/step - loss: 0.1603 - accuracy: 0.9500 - val_loss: 0.4328 - val_accuracy: 0.8795\n",
      "Epoch 7/20\n",
      "500/500 [==============================] - 7s 13ms/step - loss: 0.1424 - accuracy: 0.9552 - val_loss: 0.4610 - val_accuracy: 0.8615\n",
      "Epoch 8/20\n",
      "500/500 [==============================] - 7s 13ms/step - loss: 0.1110 - accuracy: 0.9650 - val_loss: 0.4460 - val_accuracy: 0.8810\n",
      "Epoch 9/20\n",
      "500/500 [==============================] - 7s 13ms/step - loss: 0.0848 - accuracy: 0.9746 - val_loss: 0.4671 - val_accuracy: 0.8735\n",
      "Epoch 10/20\n",
      "500/500 [==============================] - 7s 13ms/step - loss: 0.0794 - accuracy: 0.9756 - val_loss: 0.4035 - val_accuracy: 0.8900\n",
      "Epoch 11/20\n",
      "500/500 [==============================] - 7s 13ms/step - loss: 0.0725 - accuracy: 0.9783 - val_loss: 0.4096 - val_accuracy: 0.8880\n",
      "Epoch 12/20\n",
      "500/500 [==============================] - 7s 13ms/step - loss: 0.0747 - accuracy: 0.9766 - val_loss: 0.4361 - val_accuracy: 0.8820\n"
     ]
    }
   ],
   "source": [
    "h = model.fit(\n",
    "    padded_train_seq, train_labels,\n",
    "    validation_data = (val_seq,val_labels),\n",
    "    epochs = 20,\n",
    "    callbacks=[\n",
    "               tf.keras.callbacks.EarlyStopping(monitor='val_accuracy',patience=2)\n",
    "    ]\n",
    ")"
   ]
  },
  {
   "cell_type": "markdown",
   "metadata": {
    "id": "EdsJyMTLxIhX"
   },
   "source": [
    "## Task 9: Evaluating the Model\n",
    "\n",
    "1. Visualizing training history\n",
    "2. Prepraring a test set\n",
    "3. A look at individual predictions on the test set\n",
    "4. A look at all predictions on the test set"
   ]
  },
  {
   "cell_type": "code",
   "execution_count": 27,
   "metadata": {
    "colab": {
     "base_uri": "https://localhost:8080/",
     "height": 392
    },
    "executionInfo": {
     "elapsed": 669,
     "status": "ok",
     "timestamp": 1623664697315,
     "user": {
      "displayName": "邦",
      "photoUrl": "",
      "userId": "08470115849709744422"
     },
     "user_tz": -480
    },
    "id": "ENCfvXeLxIhX",
    "outputId": "648cf471-7522-4015-b31b-33eb22b7dc7e"
   },
   "outputs": [
    {
     "data": {
      "image/png": "[encoded data removed]",
      "text/plain": [
       "<Figure size 1152x432 with 2 Axes>"
      ]
     },
     "metadata": {
      "tags": []
     },
     "output_type": "display_data"
    }
   ],
   "source": [
    "show_history(h)"
   ]
  },
  {
   "cell_type": "code",
   "execution_count": 28,
   "metadata": {
    "colab": {
     "base_uri": "https://localhost:8080/"
    },
    "executionInfo": {
     "elapsed": 19267,
     "status": "ok",
     "timestamp": 1623664716574,
     "user": {
      "displayName": "邦",
      "photoUrl": "",
      "userId": "08470115849709744422"
     },
     "user_tz": -480
    },
    "id": "rh638vHG5ej6",
    "outputId": "6a1938ae-520b-4a13-f2b7-eeba423d0fc3"
   },
   "outputs": [
    {
     "name": "stderr",
     "output_type": "stream",
     "text": [
      "WARNING:absl:Found untraced functions such as lstm_cell_1_layer_call_fn, lstm_cell_1_layer_call_and_return_conditional_losses, lstm_cell_2_layer_call_fn, lstm_cell_2_layer_call_and_return_conditional_losses, lstm_cell_4_layer_call_fn while saving (showing 5 of 20). These functions will not be directly callable after loading.\n"
     ]
    },
    {
     "name": "stdout",
     "output_type": "stream",
     "text": [
      "INFO:tensorflow:Assets written to: emotional_model/assets\n"
     ]
    },
    {
     "name": "stderr",
     "output_type": "stream",
     "text": [
      "INFO:tensorflow:Assets written to: emotional_model/assets\n"
     ]
    }
   ],
   "source": [
    "model.save(\"emotional_model\")\n",
    "\n",
    "import pickle\n",
    "with open('tokenizer.pickle','wb') as handle:\n",
    "  pickle.dump(tokenizer,handle,protocol = pickle.HIGHEST_PROTOCOL)\n",
    "\n",
    "with open('label_encoder.pickle','wb') as ecn_file:\n",
    "  pickle.dump(index_to_class,ecn_file,protocol = pickle.HIGHEST_PROTOCOL)"
   ]
  },
  {
   "cell_type": "code",
   "execution_count": 29,
   "metadata": {
    "colab": {
     "base_uri": "https://localhost:8080/"
    },
    "executionInfo": {
     "elapsed": 1249,
     "status": "ok",
     "timestamp": 1623664717819,
     "user": {
      "displayName": "邦",
      "photoUrl": "",
      "userId": "08470115849709744422"
     },
     "user_tz": -480
    },
    "id": "XmMva3DsqWhp",
    "outputId": "e3203881-9a38-4d7f-f678-39e3879e2a24"
   },
   "outputs": [
    {
     "name": "stdout",
     "output_type": "stream",
     "text": [
      "Sequence: Today is a wonderful day\n",
      "Emotion: joy\n",
      "Predicted Emotion: joy \n",
      "\n",
      "Sequence: My friend betray me!\n",
      "Emotion: anger\n",
      "Predicted Emotion: anger \n",
      "\n",
      "Sequence: i made that make me feel dumb and dumber\n",
      "Emotion: sadness\n",
      "Predicted Emotion: sadness \n",
      "\n",
      "Sequence: Tomorrow is exam\n",
      "Emotion: fear\n",
      "Predicted Emotion: fear \n",
      "\n",
      "Sequence: i feel soo lonely\n",
      "Emotion: sadness\n",
      "Predicted Emotion: sadness \n",
      "\n"
     ]
    }
   ],
   "source": [
    "test_sentences = ['Today is a wonderful day','My friend betray me!','i made that make me feel dumb and dumber','Tomorrow is exam','i feel soo lonely']\n",
    "test_label = ['joy','anger','sadness','fear','sadness']\n",
    "test_sequ = get_sequences(tokenizer,test_sentences)\n",
    "test_label = names_to_ids(test_label)\n",
    "\n",
    "for i in range (5):\n",
    "  print('Sequence:',test_sentences[i])\n",
    "  print('Emotion:',index_to_class[test_label[i]])\n",
    "\n",
    "  p = model.predict(np.expand_dims(test_sequ[i],axis=0))[0]\n",
    "  pred_class = index_to_class[np.argmax(p).astype('uint8')]\n",
    "\n",
    "  print('Predicted Emotion:', pred_class,'\\n')"
   ]
  }
 ],
 "metadata": {
  "accelerator": "GPU",
  "colab": {
   "collapsed_sections": [],
   "name": "emotional_training.ipynb",
   "provenance": [
    {
     "file_id": "1ZfJY10peZyo8NRBhtNJNcIUY_ehJs_Aw",
     "timestamp": 1623550323356
    }
   ]
  },
  "kernelspec": {
   "display_name": "Python 3",
   "language": "python",
   "name": "python3"
  },
  "language_info": {
   "codemirror_mode": {
    "name": "ipython",
    "version": 3
   },
   "file_extension": ".py",
   "mimetype": "text/x-python",
   "name": "python",
   "nbconvert_exporter": "python",
   "pygments_lexer": "ipython3",
   "version": "3.8.5"
  }
 },
 "nbformat": 4,
 "nbformat_minor": 1
}
