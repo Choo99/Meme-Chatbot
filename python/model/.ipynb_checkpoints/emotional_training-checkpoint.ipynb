{
 "cells": [
  {
   "cell_type": "markdown",
   "metadata": {
    "id": "sp7D0ktn5eiG"
   },
   "source": [
    "## Tweet Emotion Recognition: Natural Language Processing with TensorFlow\n",
    "\n",
    "---\n",
    "\n",
    "Dataset: [Tweet Emotion Dataset](https://github.com/dair-ai/emotion_dataset)\n",
    "\n",
    "This is a starter notebook for the guided project [Tweet Emotion Recognition with TensorFlow](https://www.coursera.org/projects/tweet-emotion-tensorflow)\n",
    "\n",
    "A complete version of this notebook is available in the course resources\n",
    "\n",
    "---\n",
    "\n",
    "## Task 1: Introduction"
   ]
  },
  {
   "cell_type": "markdown",
   "metadata": {
    "id": "cprXxkrMxIgT"
   },
   "source": [
    "## Task 2: Setup and Imports\n",
    "\n",
    "1. Installing Hugging Face's nlp package\n",
    "2. Importing libraries"
   ]
  },
  {
   "cell_type": "code",
   "execution_count": null,
   "metadata": {
    "colab": {
     "base_uri": "https://localhost:8080/"
    },
    "executionInfo": {
     "elapsed": 2749,
     "status": "ok",
     "timestamp": 1623568494303,
     "user": {
      "displayName": "邦",
      "photoUrl": "",
      "userId": "08470115849709744422"
     },
     "user_tz": -480
    },
    "id": "5agZRy-45i0g",
    "outputId": "b440ed85-57de-4d6d-aefc-065acb25c8d2"
   },
   "outputs": [],
   "source": []
  },
  {
   "cell_type": "code",
   "execution_count": 1,
   "metadata": {
    "colab": {
     "base_uri": "https://localhost:8080/"
    },
    "executionInfo": {
     "elapsed": 11,
     "status": "ok",
     "timestamp": 1623568494304,
     "user": {
      "displayName": "邦",
      "photoUrl": "",
      "userId": "08470115849709744422"
     },
     "user_tz": -480
    },
    "id": "yKFjWz6e5eiH",
    "outputId": "f89f40a3-bd7e-47ae-f7df-1a1bb38b6470"
   },
   "outputs": [
    {
     "name": "stdout",
     "output_type": "stream",
     "text": [
      "Using TensorFlow version 2.4.1\n"
     ]
    }
   ],
   "source": [
    "%matplotlib inline\n",
    "\n",
    "import tensorflow as tf\n",
    "import numpy as np\n",
    "import matplotlib.pyplot as plt\n",
    "import nlp\n",
    "import random\n",
    "\n",
    "\n",
    "def show_history(h):\n",
    "    epochs_trained = len(h.history['loss'])\n",
    "    plt.figure(figsize=(16, 6))\n",
    "\n",
    "    plt.subplot(1, 2, 1)\n",
    "    plt.plot(range(0, epochs_trained), h.history.get('accuracy'), label='Training')\n",
    "    plt.plot(range(0, epochs_trained), h.history.get('val_accuracy'), label='Validation')\n",
    "    plt.ylim([0., 1.])\n",
    "    plt.xlabel('Epochs')\n",
    "    plt.ylabel('Accuracy')\n",
    "    plt.legend()\n",
    "\n",
    "    plt.subplot(1, 2, 2)\n",
    "    plt.plot(range(0, epochs_trained), h.history.get('loss'), label='Training')\n",
    "    plt.plot(range(0, epochs_trained), h.history.get('val_loss'), label='Validation')\n",
    "    plt.xlabel('Epochs')\n",
    "    plt.ylabel('Loss')\n",
    "    plt.legend()\n",
    "    plt.show()\n",
    "\n",
    "    \n",
    "def show_confusion_matrix(y_true, y_pred, classes):\n",
    "    from sklearn.metrics import confusion_matrix\n",
    "    \n",
    "    cm = confusion_matrix(y_true, y_pred, normalize='true')\n",
    "\n",
    "    plt.figure(figsize=(8, 8))\n",
    "    sp = plt.subplot(1, 1, 1)\n",
    "    ctx = sp.matshow(cm)\n",
    "    plt.xticks(list(range(0, 6)), labels=classes)\n",
    "    plt.yticks(list(range(0, 6)), labels=classes)\n",
    "    plt.colorbar(ctx)\n",
    "    plt.show()\n",
    "\n",
    "    \n",
    "print('Using TensorFlow version', tf.__version__)"
   ]
  },
  {
   "cell_type": "markdown",
   "metadata": {
    "id": "7JsBpezExIga"
   },
   "source": [
    "## Task 3: Importing Data\n",
    "\n",
    "1. Importing the Tweet Emotion dataset\n",
    "2. Creating train, validation and test sets\n",
    "3. Extracting tweets and labels from the examples"
   ]
  },
  {
   "cell_type": "code",
   "execution_count": 2,
   "metadata": {
    "colab": {
     "base_uri": "https://localhost:8080/"
    },
    "executionInfo": {
     "elapsed": 9,
     "status": "ok",
     "timestamp": 1623568494304,
     "user": {
      "displayName": "邦",
      "photoUrl": "",
      "userId": "08470115849709744422"
     },
     "user_tz": -480
    },
    "id": "0YHOvjAu5eiL",
    "outputId": "e27199aa-bc5a-494a-ed4c-88426c968136"
   },
   "outputs": [
    {
     "name": "stderr",
     "output_type": "stream",
     "text": [
      "Using custom data configuration default\n"
     ]
    }
   ],
   "source": [
    "dataset =  nlp.load_dataset('emotion')"
   ]
  },
  {
   "cell_type": "code",
   "execution_count": 3,
   "metadata": {
    "executionInfo": {
     "elapsed": 6,
     "status": "ok",
     "timestamp": 1623568494304,
     "user": {
      "displayName": "邦",
      "photoUrl": "",
      "userId": "08470115849709744422"
     },
     "user_tz": -480
    },
    "id": "2s0h541FxIgc"
   },
   "outputs": [],
   "source": [
    "train = dataset['train']\n",
    "val = dataset['validation']\n",
    "test = dataset['test']"
   ]
  },
  {
   "cell_type": "code",
   "execution_count": 4,
   "metadata": {
    "executionInfo": {
     "elapsed": 6,
     "status": "ok",
     "timestamp": 1623568494305,
     "user": {
      "displayName": "邦",
      "photoUrl": "",
      "userId": "08470115849709744422"
     },
     "user_tz": -480
    },
    "id": "z7eCnxU25eiN"
   },
   "outputs": [],
   "source": [
    "def get_tweet(data):\n",
    "  tweets = [x['text']for x in data]\n",
    "  labels = [x['label']for x in data]\n",
    "  return tweets, labels"
   ]
  },
  {
   "cell_type": "code",
   "execution_count": 5,
   "metadata": {
    "executionInfo": {
     "elapsed": 540,
     "status": "ok",
     "timestamp": 1623568494839,
     "user": {
      "displayName": "邦",
      "photoUrl": "",
      "userId": "08470115849709744422"
     },
     "user_tz": -480
    },
    "id": "oDYXMfZy5eiP"
   },
   "outputs": [],
   "source": [
    "tweets,labels = get_tweet(train)"
   ]
  },
  {
   "cell_type": "code",
   "execution_count": 6,
   "metadata": {
    "colab": {
     "base_uri": "https://localhost:8080/"
    },
    "executionInfo": {
     "elapsed": 27,
     "status": "ok",
     "timestamp": 1623568494841,
     "user": {
      "displayName": "邦",
      "photoUrl": "",
      "userId": "08470115849709744422"
     },
     "user_tz": -480
    },
    "id": "jeq3-vSB5eiR",
    "outputId": "c061d89f-0250-4a70-c93f-4daec36fed73"
   },
   "outputs": [
    {
     "data": {
      "text/plain": [
       "('i didnt feel humiliated', 'sadness')"
      ]
     },
     "execution_count": 6,
     "metadata": {},
     "output_type": "execute_result"
    }
   ],
   "source": [
    "tweets[0],labels[0]"
   ]
  },
  {
   "cell_type": "code",
   "execution_count": null,
   "metadata": {
    "executionInfo": {
     "elapsed": 21,
     "status": "ok",
     "timestamp": 1623568494842,
     "user": {
      "displayName": "邦",
      "photoUrl": "",
      "userId": "08470115849709744422"
     },
     "user_tz": -480
    },
    "id": "bHD3Tk0J5eiU"
   },
   "outputs": [],
   "source": []
  },
  {
   "cell_type": "markdown",
   "metadata": {
    "id": "gcAflLv6xIgp"
   },
   "source": [
    "## Task 4: Tokenizer\n",
    "\n",
    "1. Tokenizing the tweets"
   ]
  },
  {
   "cell_type": "code",
   "execution_count": 7,
   "metadata": {
    "executionInfo": {
     "elapsed": 19,
     "status": "ok",
     "timestamp": 1623568494843,
     "user": {
      "displayName": "邦",
      "photoUrl": "",
      "userId": "08470115849709744422"
     },
     "user_tz": -480
    },
    "id": "qfX5-ResxIgq"
   },
   "outputs": [],
   "source": [
    "from tensorflow.keras.preprocessing.text import Tokenizer"
   ]
  },
  {
   "cell_type": "code",
   "execution_count": 8,
   "metadata": {
    "executionInfo": {
     "elapsed": 19,
     "status": "ok",
     "timestamp": 1623568494844,
     "user": {
      "displayName": "邦",
      "photoUrl": "",
      "userId": "08470115849709744422"
     },
     "user_tz": -480
    },
    "id": "cckUvwBo5eif"
   },
   "outputs": [],
   "source": [
    "tokenizer = Tokenizer(num_words=10000, oov_token ='<UNK>')\n",
    "tokenizer.fit_on_texts(tweets)"
   ]
  },
  {
   "cell_type": "code",
   "execution_count": 9,
   "metadata": {
    "colab": {
     "base_uri": "https://localhost:8080/"
    },
    "executionInfo": {
     "elapsed": 366,
     "status": "ok",
     "timestamp": 1623568495193,
     "user": {
      "displayName": "邦",
      "photoUrl": "",
      "userId": "08470115849709744422"
     },
     "user_tz": -480
    },
    "id": "yiun3_Kndvr_",
    "outputId": "81fb47c2-b94e-4589-d3cf-d7c6b8f65fc9"
   },
   "outputs": [
    {
     "data": {
      "text/plain": [
       "[[2, 139, 3, 679]]"
      ]
     },
     "execution_count": 9,
     "metadata": {},
     "output_type": "execute_result"
    }
   ],
   "source": [
    "tokenizer.texts_to_sequences([tweets[0]])"
   ]
  },
  {
   "cell_type": "code",
   "execution_count": 10,
   "metadata": {
    "colab": {
     "base_uri": "https://localhost:8080/",
     "height": 35
    },
    "executionInfo": {
     "elapsed": 7,
     "status": "ok",
     "timestamp": 1623568495194,
     "user": {
      "displayName": "邦",
      "photoUrl": "",
      "userId": "08470115849709744422"
     },
     "user_tz": -480
    },
    "id": "w0I244Byd2DL",
    "outputId": "d7f070fd-62e2-4aa6-bec0-4596226b0e92"
   },
   "outputs": [
    {
     "data": {
      "text/plain": [
       "'i didnt feel humiliated'"
      ]
     },
     "execution_count": 10,
     "metadata": {},
     "output_type": "execute_result"
    }
   ],
   "source": [
    "tweets[0]"
   ]
  },
  {
   "cell_type": "markdown",
   "metadata": {
    "id": "i3Bqm7b2xIgu"
   },
   "source": [
    "## Task 5: Padding and Truncating Sequences\n",
    "\n",
    "1. Checking length of the tweets\n",
    "2. Creating padded sequences"
   ]
  },
  {
   "cell_type": "code",
   "execution_count": null,
   "metadata": {
    "colab": {
     "base_uri": "https://localhost:8080/",
     "height": 265
    },
    "executionInfo": {
     "elapsed": 6,
     "status": "ok",
     "timestamp": 1623568495194,
     "user": {
      "displayName": "邦",
      "photoUrl": "",
      "userId": "08470115849709744422"
     },
     "user_tz": -480
    },
    "id": "FVbl5Asv7pZl",
    "outputId": "eab417e1-ecc3-4abc-9544-9900852a3ed5"
   },
   "outputs": [],
   "source": [
    "plt.hist(labels,bins =11)\n",
    "plt.show()"
   ]
  },
  {
   "cell_type": "code",
   "execution_count": null,
   "metadata": {
    "colab": {
     "base_uri": "https://localhost:8080/",
     "height": 265
    },
    "executionInfo": {
     "elapsed": 358,
     "status": "ok",
     "timestamp": 1623568495547,
     "user": {
      "displayName": "邦",
      "photoUrl": "",
      "userId": "08470115849709744422"
     },
     "user_tz": -480
    },
    "id": "AE06GeRgd-gm",
    "outputId": "4db470fa-7b91-4c89-d55b-59515754f531"
   },
   "outputs": [],
   "source": [
    "lengths = [len(t.split(' ')) for t in tweets]\n",
    "plt.hist(lengths, bins = len(set(lengths)))\n",
    "plt.show()"
   ]
  },
  {
   "cell_type": "code",
   "execution_count": null,
   "metadata": {
    "executionInfo": {
     "elapsed": 11,
     "status": "ok",
     "timestamp": 1623568495548,
     "user": {
      "displayName": "邦",
      "photoUrl": "",
      "userId": "08470115849709744422"
     },
     "user_tz": -480
    },
    "id": "mLvf_WFZxIgu"
   },
   "outputs": [],
   "source": [
    "maxlen = 50"
   ]
  },
  {
   "cell_type": "code",
   "execution_count": null,
   "metadata": {
    "executionInfo": {
     "elapsed": 10,
     "status": "ok",
     "timestamp": 1623568495548,
     "user": {
      "displayName": "邦",
      "photoUrl": "",
      "userId": "08470115849709744422"
     },
     "user_tz": -480
    },
    "id": "EOi5lIE3xIgx"
   },
   "outputs": [],
   "source": [
    "from tensorflow.keras.preprocessing.sequence import pad_sequences"
   ]
  },
  {
   "cell_type": "code",
   "execution_count": null,
   "metadata": {
    "colab": {
     "base_uri": "https://localhost:8080/"
    },
    "executionInfo": {
     "elapsed": 11,
     "status": "ok",
     "timestamp": 1623568495549,
     "user": {
      "displayName": "邦",
      "photoUrl": "",
      "userId": "08470115849709744422"
     },
     "user_tz": -480
    },
    "id": "piwk6M1tDPZc",
    "outputId": "88d7e429-a0d1-4d6c-c4b8-2af620935216"
   },
   "outputs": [],
   "source": [
    "print(type(tweets))"
   ]
  },
  {
   "cell_type": "code",
   "execution_count": null,
   "metadata": {
    "executionInfo": {
     "elapsed": 8,
     "status": "ok",
     "timestamp": 1623568495549,
     "user": {
      "displayName": "邦",
      "photoUrl": "",
      "userId": "08470115849709744422"
     },
     "user_tz": -480
    },
    "id": "Q9J_Iemf5eiq"
   },
   "outputs": [],
   "source": [
    "def get_sequences(tokenizer,tweets,maxlen=50):\n",
    "  sequence = tokenizer.texts_to_sequences(tweets)\n",
    "  padded = pad_sequences(sequence, truncating = 'post', padding = 'post', maxlen = maxlen)\n",
    "  return padded"
   ]
  },
  {
   "cell_type": "code",
   "execution_count": null,
   "metadata": {
    "executionInfo": {
     "elapsed": 375,
     "status": "ok",
     "timestamp": 1623568495916,
     "user": {
      "displayName": "邦",
      "photoUrl": "",
      "userId": "08470115849709744422"
     },
     "user_tz": -480
    },
    "id": "eglH77ky5ei0"
   },
   "outputs": [],
   "source": [
    "padded_train_seq = get_sequences(tokenizer,tweets)"
   ]
  },
  {
   "cell_type": "code",
   "execution_count": null,
   "metadata": {
    "executionInfo": {
     "elapsed": 10,
     "status": "ok",
     "timestamp": 1623568495917,
     "user": {
      "displayName": "邦",
      "photoUrl": "",
      "userId": "08470115849709744422"
     },
     "user_tz": -480
    },
    "id": "iGR473HA5ei7"
   },
   "outputs": [],
   "source": []
  },
  {
   "cell_type": "markdown",
   "metadata": {
    "id": "BURhOX_KxIg8"
   },
   "source": [
    "## Task 6: Preparing the Labels\n",
    "\n",
    "1. Creating classes to index and index to classes dictionaries\n",
    "2. Converting text labels to numeric labels"
   ]
  },
  {
   "cell_type": "code",
   "execution_count": null,
   "metadata": {
    "executionInfo": {
     "elapsed": 10,
     "status": "ok",
     "timestamp": 1623568495917,
     "user": {
      "displayName": "邦",
      "photoUrl": "",
      "userId": "08470115849709744422"
     },
     "user_tz": -480
    },
    "id": "SufT2bpD5ejE"
   },
   "outputs": [],
   "source": [
    "classes = set(labels)"
   ]
  },
  {
   "cell_type": "code",
   "execution_count": null,
   "metadata": {
    "executionInfo": {
     "elapsed": 9,
     "status": "ok",
     "timestamp": 1623568495917,
     "user": {
      "displayName": "邦",
      "photoUrl": "",
      "userId": "08470115849709744422"
     },
     "user_tz": -480
    },
    "id": "rpwzL88I7YSm"
   },
   "outputs": [],
   "source": [
    "class_to_index = dict((c,i) for i,c in enumerate(classes))\n",
    "index_to_class = dict((v,k) for k,v in class_to_index.items())"
   ]
  },
  {
   "cell_type": "code",
   "execution_count": null,
   "metadata": {
    "colab": {
     "base_uri": "https://localhost:8080/"
    },
    "executionInfo": {
     "elapsed": 10,
     "status": "ok",
     "timestamp": 1623568495918,
     "user": {
      "displayName": "邦",
      "photoUrl": "",
      "userId": "08470115849709744422"
     },
     "user_tz": -480
    },
    "id": "dNLF6rXL5ejN",
    "outputId": "6a06b63f-5602-4956-b52d-87746808ca44"
   },
   "outputs": [],
   "source": [
    "class_to_index"
   ]
  },
  {
   "cell_type": "code",
   "execution_count": null,
   "metadata": {
    "executionInfo": {
     "elapsed": 8,
     "status": "ok",
     "timestamp": 1623568495918,
     "user": {
      "displayName": "邦",
      "photoUrl": "",
      "userId": "08470115849709744422"
     },
     "user_tz": -480
    },
    "id": "_08InVyM5ejc"
   },
   "outputs": [],
   "source": [
    "names_to_ids = lambda labels:np.array([class_to_index.get(x) for x in labels])"
   ]
  },
  {
   "cell_type": "code",
   "execution_count": null,
   "metadata": {
    "executionInfo": {
     "elapsed": 8,
     "status": "ok",
     "timestamp": 1623568495919,
     "user": {
      "displayName": "邦",
      "photoUrl": "",
      "userId": "08470115849709744422"
     },
     "user_tz": -480
    },
    "id": "gpeDoA6gxIhE"
   },
   "outputs": [],
   "source": [
    "train_labels = names_to_ids(labels)"
   ]
  },
  {
   "cell_type": "code",
   "execution_count": null,
   "metadata": {
    "executionInfo": {
     "elapsed": 7,
     "status": "ok",
     "timestamp": 1623568495919,
     "user": {
      "displayName": "邦",
      "photoUrl": "",
      "userId": "08470115849709744422"
     },
     "user_tz": -480
    },
    "id": "Jq0WJYsP5ejR"
   },
   "outputs": [],
   "source": []
  },
  {
   "cell_type": "code",
   "execution_count": null,
   "metadata": {
    "executionInfo": {
     "elapsed": 8,
     "status": "ok",
     "timestamp": 1623568495920,
     "user": {
      "displayName": "邦",
      "photoUrl": "",
      "userId": "08470115849709744422"
     },
     "user_tz": -480
    },
    "id": "v15KnrNC5ejW"
   },
   "outputs": [],
   "source": []
  },
  {
   "cell_type": "markdown",
   "metadata": {
    "id": "c-v0Mnh8xIhP"
   },
   "source": [
    "## Task 7: Creating the Model\n",
    "\n",
    "1. Creating the model\n",
    "2. Compiling the model"
   ]
  },
  {
   "cell_type": "code",
   "execution_count": null,
   "metadata": {
    "executionInfo": {
     "elapsed": 688,
     "status": "ok",
     "timestamp": 1623568496600,
     "user": {
      "displayName": "邦",
      "photoUrl": "",
      "userId": "08470115849709744422"
     },
     "user_tz": -480
    },
    "id": "OpewXxPQ5eji"
   },
   "outputs": [],
   "source": [
    "model = tf.keras.models.Sequential([\n",
    "        tf.keras.layers.Embedding(10000,16,input_length=maxlen),\n",
    "        tf.keras.layers.Bidirectional(tf.keras.layers.LSTM(20,return_sequences=True)),\n",
    "        tf.keras.layers.Bidirectional(tf.keras.layers.LSTM(20)),\n",
    "        tf.keras.layers.Dense(6,activation='softmax')\n",
    "])\n",
    "\n",
    "model.compile(\n",
    "    loss = 'sparse_categorical_crossentropy',\n",
    "    optimizer = 'adam',\n",
    "    metrics = ['accuracy']\n",
    ")"
   ]
  },
  {
   "cell_type": "code",
   "execution_count": null,
   "metadata": {
    "colab": {
     "base_uri": "https://localhost:8080/"
    },
    "executionInfo": {
     "elapsed": 4,
     "status": "ok",
     "timestamp": 1623568496601,
     "user": {
      "displayName": "邦",
      "photoUrl": "",
      "userId": "08470115849709744422"
     },
     "user_tz": -480
    },
    "id": "2-OBYKTAV7Xk",
    "outputId": "eb7bfb25-c4fa-4fa7-8aaf-31a42b7a2893"
   },
   "outputs": [],
   "source": [
    "model.summary()"
   ]
  },
  {
   "cell_type": "markdown",
   "metadata": {
    "id": "1HST_CHjxIhR"
   },
   "source": [
    "## Task 8: Training the Model\n",
    "\n",
    "1. Preparing a validation set\n",
    "2. Training the model"
   ]
  },
  {
   "cell_type": "code",
   "execution_count": null,
   "metadata": {
    "executionInfo": {
     "elapsed": 522,
     "status": "ok",
     "timestamp": 1623568497120,
     "user": {
      "displayName": "邦",
      "photoUrl": "",
      "userId": "08470115849709744422"
     },
     "user_tz": -480
    },
    "id": "Ff7F3hCK5ejm"
   },
   "outputs": [],
   "source": [
    "val_tweets, val_labels = get_tweet(val)\n",
    "val_seq = get_sequences(tokenizer,val_tweets)\n",
    "val_labels = names_to_ids(val_labels)"
   ]
  },
  {
   "cell_type": "code",
   "execution_count": null,
   "metadata": {
    "executionInfo": {
     "elapsed": 5,
     "status": "ok",
     "timestamp": 1623568497121,
     "user": {
      "displayName": "邦",
      "photoUrl": "",
      "userId": "08470115849709744422"
     },
     "user_tz": -480
    },
    "id": "jLk3IasfYIfg"
   },
   "outputs": [],
   "source": []
  },
  {
   "cell_type": "code",
   "execution_count": null,
   "metadata": {
    "colab": {
     "base_uri": "https://localhost:8080/"
    },
    "executionInfo": {
     "elapsed": 75398,
     "status": "ok",
     "timestamp": 1623568572515,
     "user": {
      "displayName": "邦",
      "photoUrl": "",
      "userId": "08470115849709744422"
     },
     "user_tz": -480
    },
    "id": "hlMKaZ3H5ejr",
    "outputId": "0995f631-267c-4677-b651-721060673978"
   },
   "outputs": [],
   "source": [
    "h = model.fit(\n",
    "    padded_train_seq, train_labels,\n",
    "    validation_data = (val_seq,val_labels),\n",
    "    epochs = 20,\n",
    "    callbacks=[\n",
    "               tf.keras.callbacks.EarlyStopping(monitor='val_accuracy',patience=2)\n",
    "    ]\n",
    ")"
   ]
  },
  {
   "cell_type": "code",
   "execution_count": null,
   "metadata": {
    "executionInfo": {
     "elapsed": 10,
     "status": "ok",
     "timestamp": 1623568572515,
     "user": {
      "displayName": "邦",
      "photoUrl": "",
      "userId": "08470115849709744422"
     },
     "user_tz": -480
    },
    "id": "bzBqnWQ-5ejw"
   },
   "outputs": [],
   "source": []
  },
  {
   "cell_type": "markdown",
   "metadata": {
    "id": "EdsJyMTLxIhX"
   },
   "source": [
    "## Task 9: Evaluating the Model\n",
    "\n",
    "1. Visualizing training history\n",
    "2. Prepraring a test set\n",
    "3. A look at individual predictions on the test set\n",
    "4. A look at all predictions on the test set"
   ]
  },
  {
   "cell_type": "code",
   "execution_count": null,
   "metadata": {
    "colab": {
     "base_uri": "https://localhost:8080/",
     "height": 392
    },
    "executionInfo": {
     "elapsed": 719,
     "status": "ok",
     "timestamp": 1623568573224,
     "user": {
      "displayName": "邦",
      "photoUrl": "",
      "userId": "08470115849709744422"
     },
     "user_tz": -480
    },
    "id": "ENCfvXeLxIhX",
    "outputId": "e4d0161c-541e-4a11-cf13-08b30f9bcc26"
   },
   "outputs": [],
   "source": [
    "show_history(h)"
   ]
  },
  {
   "cell_type": "code",
   "execution_count": null,
   "metadata": {
    "executionInfo": {
     "elapsed": 4,
     "status": "ok",
     "timestamp": 1623568573225,
     "user": {
      "displayName": "邦",
      "photoUrl": "",
      "userId": "08470115849709744422"
     },
     "user_tz": -480
    },
    "id": "7vRVJ_2SxIhc"
   },
   "outputs": [],
   "source": [
    "test_tweets,test_labels = get_tweet(test)\n",
    "test_seq = get_sequences(tokenizer,test_tweets)\n",
    "test_labels = names_to_ids(test_labels)"
   ]
  },
  {
   "cell_type": "code",
   "execution_count": null,
   "metadata": {
    "colab": {
     "base_uri": "https://localhost:8080/"
    },
    "executionInfo": {
     "elapsed": 19581,
     "status": "ok",
     "timestamp": 1623568592803,
     "user": {
      "displayName": "邦",
      "photoUrl": "",
      "userId": "08470115849709744422"
     },
     "user_tz": -480
    },
    "id": "rh638vHG5ej6",
    "outputId": "c0d0d19a-e5d3-49df-8f1a-92b59258f6b6"
   },
   "outputs": [],
   "source": [
    "model.save(\"emotional_model\")\n",
    "\n",
    "import pickle\n",
    "with open('tokenizer.pickle','wb') as handle:\n",
    "  pickle.dump(tokenizer,handle,protocol = pickle.HIGHEST_PROTOCOL)\n",
    "\n",
    "with open('label_encoder.pickle','wb') as ecn_file:\n",
    "  pickle.dump(index_to_class,ecn_file,protocol = pickle.HIGHEST_PROTOCOL)"
   ]
  },
  {
   "cell_type": "code",
   "execution_count": null,
   "metadata": {
    "colab": {
     "base_uri": "https://localhost:8080/"
    },
    "executionInfo": {
     "elapsed": 1171,
     "status": "ok",
     "timestamp": 1623568598641,
     "user": {
      "displayName": "邦",
      "photoUrl": "",
      "userId": "08470115849709744422"
     },
     "user_tz": -480
    },
    "id": "kWuzoz8uxIha",
    "outputId": "65df4324-276f-44e7-9199-266b9df36710"
   },
   "outputs": [],
   "source": [
    "i = random.randint(0, len(test_labels) - 1)\n",
    "\n",
    "print('Sequence:',test_tweets[i])\n",
    "print('Emotion:',index_to_class[test_labels[i]])\n",
    "\n",
    "p = model.predict(np.expand_dims(test_seq[i],axis=0))[0]\n",
    "pred_class = index_to_class[np.argmax(p).astype('uint8')]\n",
    "\n",
    "print('Predicted Emotion:', pred_class)"
   ]
  },
  {
   "cell_type": "code",
   "execution_count": null,
   "metadata": {
    "executionInfo": {
     "elapsed": 5,
     "status": "ok",
     "timestamp": 1623568593670,
     "user": {
      "displayName": "邦",
      "photoUrl": "",
      "userId": "08470115849709744422"
     },
     "user_tz": -480
    },
    "id": "ZyjnTBvfvHn1"
   },
   "outputs": [],
   "source": []
  },
  {
   "cell_type": "code",
   "execution_count": null,
   "metadata": {
    "executionInfo": {
     "elapsed": 4,
     "status": "ok",
     "timestamp": 1623568593670,
     "user": {
      "displayName": "邦",
      "photoUrl": "",
      "userId": "08470115849709744422"
     },
     "user_tz": -480
    },
    "id": "hHl5SVCFxIhh"
   },
   "outputs": [],
   "source": []
  },
  {
   "cell_type": "code",
   "execution_count": null,
   "metadata": {
    "executionInfo": {
     "elapsed": 5,
     "status": "ok",
     "timestamp": 1623568593671,
     "user": {
      "displayName": "邦",
      "photoUrl": "",
      "userId": "08470115849709744422"
     },
     "user_tz": -480
    },
    "id": "NC8YQ0OexIhj"
   },
   "outputs": [],
   "source": []
  }
 ],
 "metadata": {
  "accelerator": "GPU",
  "colab": {
   "collapsed_sections": [],
   "name": "emotional_training.ipynb",
   "provenance": [
    {
     "file_id": "1ZfJY10peZyo8NRBhtNJNcIUY_ehJs_Aw",
     "timestamp": 1623550323356
    }
   ]
  },
  "kernelspec": {
   "display_name": "Python 3",
   "language": "python",
   "name": "python3"
  },
  "language_info": {
   "codemirror_mode": {
    "name": "ipython",
    "version": 3
   },
   "file_extension": ".py",
   "mimetype": "text/x-python",
   "name": "python",
   "nbconvert_exporter": "python",
   "pygments_lexer": "ipython3",
   "version": "3.8.5"
  }
 },
 "nbformat": 4,
 "nbformat_minor": 1
}
